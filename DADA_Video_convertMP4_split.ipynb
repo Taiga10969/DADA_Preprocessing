{
 "cells": [
  {
   "cell_type": "code",
   "execution_count": 1,
   "metadata": {},
   "outputs": [],
   "source": [
    "import os\n",
    "import sys\n",
    "import cv2\n",
    "from moviepy.editor import VideoFileClip, VideoClip\n",
    "from moviepy.video.io.ffmpeg_tools import ffmpeg_extract_subclip"
   ]
  },
  {
   "cell_type": "markdown",
   "metadata": {},
   "source": [
    "## avi => mp4 のプログラム"
   ]
  },
  {
   "cell_type": "code",
   "execution_count": 2,
   "metadata": {},
   "outputs": [
    {
     "name": "stdout",
     "output_type": "stream",
     "text": [
      "video_clip.size: 1584 660 0 30.0 29.27\n",
      "Moviepy - Building video output.mp4.\n",
      "Moviepy - Writing video output.mp4\n",
      "\n"
     ]
    },
    {
     "name": "stderr",
     "output_type": "stream",
     "text": [
      "                                                              \r"
     ]
    },
    {
     "name": "stdout",
     "output_type": "stream",
     "text": [
      "Moviepy - Done !\n",
      "Moviepy - video ready output.mp4\n"
     ]
    }
   ],
   "source": [
    "# 入力ファイルと出力ファイルを指定\n",
    "input_file = \"/taiga/junior/DADA_Datasets/DADA-2000/videos/images_10_001.avi\"  # 入力Aviファイル名\n",
    "output_file = \"output.mp4\"  # 出力Mp4ファイル名　このままでは作業ディレクトリに保存されます\n",
    "\n",
    "# 動画情報を取得\n",
    "video_clip = VideoFileClip(input_file)\n",
    "\n",
    "# 解像度を取得\n",
    "width = video_clip.size[0]\n",
    "height = video_clip.size[1]\n",
    "rotation = video_clip.rotation\n",
    "fps = video_clip.fps\n",
    "duration = video_clip.duration\n",
    "print(\"video_clip.size:\", width, height, rotation, fps, duration)\n",
    "\n",
    "# avi動画をMP4に変換して保存\n",
    "if rotation == 90:\n",
    "    video_clip.write_videofile(output_file, codec='libx264', ffmpeg_params=[\"-vf\", f\"scale={height}:{width}\"])\n",
    "else:\n",
    "    video_clip.write_videofile(output_file, codec='libx264', ffmpeg_params=[\"-vf\", f\"scale={width}:{height}\"])"
   ]
  },
  {
   "cell_type": "markdown",
   "metadata": {},
   "source": [
    "## mp4の動画から異なる動画を分割"
   ]
  },
  {
   "cell_type": "code",
   "execution_count": 24,
   "metadata": {},
   "outputs": [
    {
     "name": "stdout",
     "output_type": "stream",
     "text": [
      "切り替わりのタイミング : [14.666666666666666]s \n"
     ]
    }
   ],
   "source": [
    "input_video_file = \"output.mp4\"\n",
    "\n",
    "# 動画の切り替えを検出するための閾値を設定します\n",
    "difference_threshold = 25000000  # 閾値は動画によって調整が必要かもしれません\n",
    "min_time_between_switches = 2  # 最小の動画切り替え間隔（秒）\n",
    "\n",
    "cap = cv2.VideoCapture(str(input_video_file))\n",
    "\n",
    "# 動画の情報を取得します\n",
    "frame_width = int(cap.get(3))\n",
    "frame_height = int(cap.get(4))\n",
    "frame_count = int(cap.get(cv2.CAP_PROP_FRAME_COUNT))\n",
    "frame_rate = cap.get(cv2.CAP_PROP_FPS)  # 実際のフレームレートを取得します\n",
    "\n",
    "# 前のフレームを初期化します\n",
    "prev_frame = None\n",
    "\n",
    "movie_switch_times = []\n",
    "\n",
    "# フレームを読み込み、動画の切り替えを検出します\n",
    "prev_switch_time = -1\n",
    "for i in range(frame_count):\n",
    "    ret, frame = cap.read()\n",
    "    if not ret:\n",
    "        break\n",
    "    # グレースケールに変換します\n",
    "    gray_frame = cv2.cvtColor(frame, cv2.COLOR_BGR2GRAY)\n",
    "    # 前のフレームが存在する場合、差分を計算します\n",
    "    if prev_frame is not None:\n",
    "        frame_difference = cv2.absdiff(gray_frame, prev_frame)\n",
    "        difference_sum = frame_difference.sum()\n",
    "        #print(difference_sum)\n",
    "        # 差分が閾値を超え，最小間隔以上の時間が経過した場合，動画切り替えとみなします\n",
    "        if difference_sum > difference_threshold:\n",
    "            current_time = i / frame_rate  # フレーム番号から実際の時間を計算\n",
    "            if current_time - prev_switch_time >= min_time_between_switches:\n",
    "                movie_switch_times.append(current_time)\n",
    "                prev_switch_time = current_time\n",
    "    prev_frame = gray_frame\n",
    "\n",
    "cap.release()\n",
    "\n",
    "print(f\"切り替わりのタイミング : {movie_switch_times}s \")"
   ]
  },
  {
   "cell_type": "code",
   "execution_count": 25,
   "metadata": {},
   "outputs": [],
   "source": [
    "def split_video(file_path: str, split_points: list) -> None:\n",
    "    # ファイル名から拡張子を取得\n",
    "    file_name, file_extension = os.path.splitext(os.path.basename(file_path))\n",
    "\n",
    "    # 分割したビデオの保存先ディレクトリを作成\n",
    "    output_dir = f\"{file_name}_split\"\n",
    "    os.makedirs(output_dir, exist_ok=True)\n",
    "\n",
    "    # 動画の長さを取得\n",
    "    with VideoFileClip(file_path) as video:\n",
    "        total_duration = int(video.duration)\n",
    "\n",
    "    # 修正したリストに終了時刻を追加して作業を行う\n",
    "    modified_split_points = split_points + [total_duration]\n",
    "\n",
    "    # リストの最初に0を追加\n",
    "    modified_split_points.insert(0, 0)\n",
    "\n",
    "    # タイミングを指定してビデオを分割\n",
    "    for i, split_point in enumerate(modified_split_points[:-1]):\n",
    "        start_time = split_point\n",
    "        end_time = modified_split_points[i + 1]\n",
    "\n",
    "        # 分割範囲を指定してビデオを切り出し\n",
    "        output_path = os.path.join(output_dir, f\"{file_name}_part_{i}{file_extension}\")\n",
    "        ffmpeg_extract_subclip(file_path, start_time, end_time, targetname=output_path)"
   ]
  },
  {
   "cell_type": "code",
   "execution_count": 26,
   "metadata": {},
   "outputs": [
    {
     "name": "stdout",
     "output_type": "stream",
     "text": [
      "Moviepy - Running:\n",
      ">>> \"+ \" \".join(cmd)\n",
      "Moviepy - Command successful\n",
      "Moviepy - Running:\n",
      ">>> \"+ \" \".join(cmd)\n",
      "Moviepy - Command successful\n"
     ]
    }
   ],
   "source": [
    "# Usage example\n",
    "input_video = \"output.mp4\"\n",
    "split_video(input_video, movie_switch_times)"
   ]
  },
  {
   "cell_type": "code",
   "execution_count": null,
   "metadata": {},
   "outputs": [],
   "source": []
  }
 ],
 "metadata": {
  "kernelspec": {
   "display_name": "Python 3",
   "language": "python",
   "name": "python3"
  },
  "language_info": {
   "codemirror_mode": {
    "name": "ipython",
    "version": 3
   },
   "file_extension": ".py",
   "mimetype": "text/x-python",
   "name": "python",
   "nbconvert_exporter": "python",
   "pygments_lexer": "ipython3",
   "version": "3.10.12"
  }
 },
 "nbformat": 4,
 "nbformat_minor": 2
}
